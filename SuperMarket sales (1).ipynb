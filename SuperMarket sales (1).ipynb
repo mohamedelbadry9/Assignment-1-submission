{
 "cells":[
  {
   "cell_type":"markdown",
   "source":[
    "## **Supermarket Sales**\n",
    "Assignment 1 \n",
    "done by: Mohamed Hatem El-Badry, Shahd Hasnoon"
   ],
   "attachments":{
    
   },
   "metadata":{
    "datalore":{
     "type":"MD",
     "hide_input_from_viewers":false,
     "hide_output_from_viewers":false
    }
   }
  },
  {
   "cell_type":"markdown",
   "source":[
    "DATA SET = SUPERMARKET SALES\n",
    "Source: https:\/\/www.kaggle.com\/aungpyaeap\/supermarket-sales\n",
    "\n",
    "Attribute information:\n",
    "Invoice id: Computer generated sales slip invoice identification number (Identifier) (Character string)\n",
    "\n",
    "Branch: Branch of supercenter (3 branches are available identified by A, B and C). (Qualitative Categorical) (Factor)\n",
    "\n",
    "City: Location of supercenters (Qualitative Categorical) (Factor)\n",
    "\n",
    "Customer type: Type of customers, recorded by Members for customers using member card and Normal for without member card. (Qualitative Categorical) (Factor)\n",
    "\n",
    "Gender: Gender type of customer (Qualitative Categorical) (Factor)\n",
    "\n",
    "Product line: General item categorization groups - Electronic accessories, Fashion accessories, Food and beverages, Health and beauty, Home and lifestyle, Sports and travel (Qualitative Categorical) (Factor) \n",
    "\n",
    "Unit price: Price of each product unit of measurement: in $ (Numeric, Quantitative)\n",
    "\n",
    "\n",
    "Quantity: Number of products purchased by customer unit of measurement: items (Numeric, Quantitative)\n",
    "\n",
    "Tax: 5% tax fee for customer buying unit of measurement: in $ (Numeric, Quantitative)\n",
    "\n",
    "Total: Total price including tax unit of measurement: in $ (Numeric, Quantitative)\n",
    "\n",
    "Date: Date of purchase (Record available from January 2019 to March 2019) (Qualitative) (Factor)\n",
    "\n",
    "Time: Purchase time (10am to 9pm) (Qualitative) (Factor)\n",
    "\n",
    "Payment: Payment used by customer for purchase (3 methods are available – Cash, Credit card and Ewallet) (Qualitative Categorical) (Factor)\n",
    "\n",
    "COGS: Cost of goods sold unit of measurement: in $ (Numeric, Quantitative)\n",
    "\n",
    "Gross margin percentage: Gross margin percentage unit of measurement: in % (Numeric, Quantitative)\n",
    "\n",
    "Gross income: Gross income unit of measurement: in $ (Numeric, Quantitative)\n",
    "\n",
    "Rating: Customer stratification rating on their overall shopping experience (On a scale of 1 to 10) unit of measurement: no unit of measurement (ordinal)(numeric)\n",
    "\n",
    "\n",
    "Purpose:\n",
    "This dataset can be used for predictive data analytics purpose.\n",
    "\n",
    "Population: All supermarkets \n",
    "\n",
    "Sample(where): the 3 branches of the supermarket [A,B,C]\n",
    "\n",
    "Observations(who): 1000 customers \n",
    "\n",
    "Variables(what): Invoice id, Branch, City, Customer type, Gender, Product line, Unit price, Quantity, Tax, Total, Date, Time, Payment, COGS, Gross margin percentage, Gross income and Rating. "
   ],
   "attachments":{
    
   },
   "metadata":{
    "datalore":{
     "type":"MD",
     "hide_input_from_viewers":false,
     "hide_output_from_viewers":false
    }
   }
  },
  {
   "cell_type":"code",
   "source":[
    "!pip install pandas\n",
    "import pandas as pd"
   ],
   "execution_count":1,
   "outputs":[
    {
     "name":"stdout",
     "text":[
      "Requirement already satisfied: pandas in \/opt\/python\/envs\/default\/lib\/python3.8\/site-packages (1.3.5)\r\n",
      "Requirement already satisfied: pytz>=2017.3 in \/opt\/python\/envs\/default\/lib\/python3.8\/site-packages (from pandas) (2021.3)\r\n",
      "Requirement already satisfied: python-dateutil>=2.7.3 in \/opt\/python\/envs\/default\/lib\/python3.8\/site-packages (from pandas) (2.8.2)\r\n",
      "Requirement already satisfied: numpy>=1.17.3 in \/opt\/python\/envs\/default\/lib\/python3.8\/site-packages (from pandas) (1.21.5)\r\n",
      "Requirement already satisfied: six>=1.5 in \/opt\/python\/envs\/default\/lib\/python3.8\/site-packages (from python-dateutil>=2.7.3->pandas) (1.16.0)\r\n",
      "\u001b[33mWARNING: You are using pip version 21.3.1; however, version 22.0.3 is available.\r\n",
      "You should consider upgrading via the '\/opt\/python\/envs\/default\/bin\/python -m pip install --upgrade pip' command.\u001b[0m\r\n"
     ],
     "output_type":"stream"
    }
   ],
   "metadata":{
    "datalore":{
     "type":"CODE",
     "hide_input_from_viewers":false,
     "hide_output_from_viewers":false
    }
   }
  },
  {
   "cell_type":"code",
   "source":[
    "!pip install openpyxl  \n",
    "import openpyxl\n",
    "\n",
    "\n",
    "\n",
    "\n"
   ],
   "execution_count":2,
   "outputs":[
    {
     "name":"stdout",
     "text":[
      "Collecting openpyxl\r\n",
      "  Downloading openpyxl-3.0.9-py2.py3-none-any.whl (242 kB)\r\n",
      "\u001b[?25l\r\r     |█▍                              | 10 kB 23.5 MB\/s eta 0:00:01\r     |██▊                             | 20 kB 28.8 MB\/s eta 0:00:01\r     |████                            | 30 kB 30.5 MB\/s eta 0:00:01\r     |█████▍                          | 40 kB 33.5 MB\/s eta 0:00:01\r     |██████▊                         | 51 kB 23.1 MB\/s eta 0:00:01\r     |████████▏                       | 61 kB 25.9 MB\/s eta 0:00:01\r     |█████████▌                      | 71 kB 28.3 MB\/s eta 0:00:01\r     |██████████▉                     | 81 kB 29.9 MB\/s eta 0:00:01\r     |████████████▏                   | 92 kB 31.7 MB\/s eta 0:00:01\r     |█████████████▌                  | 102 kB 33.5 MB\/s eta 0:00:01\r     |██████████████▉                 | 112 kB 33.5 MB\/s eta 0:00:01\r     |████████████████▎               | 122 kB 33.5 MB\/s eta 0:00:01\r     |█████████████████▋              | 133 kB 33.5 MB\/s eta 0:00:01\r     |███████████████████             | 143 kB 33.5 MB\/s eta 0:00:01\r     |████████████████████▎           | 153 kB 33.5 MB\/s eta 0:00:01\r     |█████████████████████▋          | 163 kB 33.5 MB\/s eta 0:00:01\r     |███████████████████████         | 174 kB 33.5 MB\/s eta 0:00:01\r     |████████████████████████▍       | 184 kB 33.5 MB\/s eta 0:00:01\r     |█████████████████████████▊      | 194 kB 33.5 MB\/s eta 0:00:01\r     |███████████████████████████     | 204 kB 33.5 MB\/s eta 0:00:01\r     |████████████████████████████▍   | 215 kB 33.5 MB\/s eta 0:00:01\r     |█████████████████████████████▊  | 225 kB 33.5 MB\/s eta 0:00:01\r     |███████████████████████████████▏| 235 kB 33.5 MB\/s eta 0:00:01\r     |████████████████████████████████| 242 kB 33.5 MB\/s            \r\n",
      "\u001b[?25hCollecting et-xmlfile\r\n",
      "  Downloading et_xmlfile-1.1.0-py3-none-any.whl (4.7 kB)\r\n",
      "Installing collected packages: et-xmlfile, openpyxl\r\n",
      "Successfully installed et-xmlfile-1.1.0 openpyxl-3.0.9\r\n",
      "\u001b[33mWARNING: You are using pip version 21.3.1; however, version 22.0.3 is available.\r\n",
      "You should consider upgrading via the '\/opt\/python\/envs\/default\/bin\/python -m pip install --upgrade pip' command.\u001b[0m\r\n"
     ],
     "output_type":"stream"
    }
   ],
   "metadata":{
    "datalore":{
     "type":"CODE",
     "hide_input_from_viewers":false,
     "hide_output_from_viewers":false
    }
   }
  },
  {
   "cell_type":"code",
   "source":[
    "x= pd.read_csv(\"data.csv\")\n",
    "x"
   ],
   "execution_count":3,
   "outputs":[
    {
     "data":{
      "text\/html":[
       "<div>\n",
       "<style scoped>\n",
       "    .dataframe tbody tr th:only-of-type {\n",
       "        vertical-align: middle;\n",
       "    }\n",
       "\n",
       "    .dataframe tbody tr th {\n",
       "        vertical-align: top;\n",
       "    }\n",
       "\n",
       "    .dataframe thead th {\n",
       "        text-align: right;\n",
       "    }\n",
       "<\/style>\n",
       "<table border=\"1\" class=\"dataframe\">\n",
       "  <thead>\n",
       "    <tr style=\"text-align: right;\">\n",
       "      <th><\/th>\n",
       "      <th>Invoice ID<\/th>\n",
       "      <th>Branch<\/th>\n",
       "      <th>City<\/th>\n",
       "      <th>Customer type<\/th>\n",
       "      <th>Gender<\/th>\n",
       "      <th>Product line<\/th>\n",
       "      <th>Unit price<\/th>\n",
       "      <th>Quantity<\/th>\n",
       "      <th>Tax 5%<\/th>\n",
       "      <th>Total<\/th>\n",
       "      <th>Date<\/th>\n",
       "      <th>Time<\/th>\n",
       "      <th>Payment<\/th>\n",
       "      <th>cogs<\/th>\n",
       "      <th>gross margin percentage<\/th>\n",
       "      <th>gross income<\/th>\n",
       "      <th>Rating<\/th>\n",
       "    <\/tr>\n",
       "  <\/thead>\n",
       "  <tbody>\n",
       "    <tr>\n",
       "      <th>0<\/th>\n",
       "      <td>750-67-8428<\/td>\n",
       "      <td>A<\/td>\n",
       "      <td>Yangon<\/td>\n",
       "      <td>Member<\/td>\n",
       "      <td>Female<\/td>\n",
       "      <td>Health and beauty<\/td>\n",
       "      <td>74.69<\/td>\n",
       "      <td>7<\/td>\n",
       "      <td>26.1415<\/td>\n",
       "      <td>548.9715<\/td>\n",
       "      <td>1\/5\/2019<\/td>\n",
       "      <td>13:08<\/td>\n",
       "      <td>Ewallet<\/td>\n",
       "      <td>522.83<\/td>\n",
       "      <td>4.761905<\/td>\n",
       "      <td>26.1415<\/td>\n",
       "      <td>9.1<\/td>\n",
       "    <\/tr>\n",
       "    <tr>\n",
       "      <th>1<\/th>\n",
       "      <td>226-31-3081<\/td>\n",
       "      <td>C<\/td>\n",
       "      <td>Naypyitaw<\/td>\n",
       "      <td>Normal<\/td>\n",
       "      <td>Female<\/td>\n",
       "      <td>Electronic accessories<\/td>\n",
       "      <td>15.28<\/td>\n",
       "      <td>5<\/td>\n",
       "      <td>3.8200<\/td>\n",
       "      <td>80.2200<\/td>\n",
       "      <td>3\/8\/2019<\/td>\n",
       "      <td>10:29<\/td>\n",
       "      <td>Cash<\/td>\n",
       "      <td>76.40<\/td>\n",
       "      <td>4.761905<\/td>\n",
       "      <td>3.8200<\/td>\n",
       "      <td>9.6<\/td>\n",
       "    <\/tr>\n",
       "    <tr>\n",
       "      <th>2<\/th>\n",
       "      <td>631-41-3108<\/td>\n",
       "      <td>A<\/td>\n",
       "      <td>Yangon<\/td>\n",
       "      <td>Normal<\/td>\n",
       "      <td>Male<\/td>\n",
       "      <td>Home and lifestyle<\/td>\n",
       "      <td>46.33<\/td>\n",
       "      <td>7<\/td>\n",
       "      <td>16.2155<\/td>\n",
       "      <td>340.5255<\/td>\n",
       "      <td>3\/3\/2019<\/td>\n",
       "      <td>13:23<\/td>\n",
       "      <td>Credit card<\/td>\n",
       "      <td>324.31<\/td>\n",
       "      <td>4.761905<\/td>\n",
       "      <td>16.2155<\/td>\n",
       "      <td>7.4<\/td>\n",
       "    <\/tr>\n",
       "    <tr>\n",
       "      <th>3<\/th>\n",
       "      <td>123-19-1176<\/td>\n",
       "      <td>A<\/td>\n",
       "      <td>Yangon<\/td>\n",
       "      <td>Member<\/td>\n",
       "      <td>Male<\/td>\n",
       "      <td>Health and beauty<\/td>\n",
       "      <td>58.22<\/td>\n",
       "      <td>8<\/td>\n",
       "      <td>23.2880<\/td>\n",
       "      <td>489.0480<\/td>\n",
       "      <td>1\/27\/2019<\/td>\n",
       "      <td>20:33<\/td>\n",
       "      <td>Ewallet<\/td>\n",
       "      <td>465.76<\/td>\n",
       "      <td>4.761905<\/td>\n",
       "      <td>23.2880<\/td>\n",
       "      <td>8.4<\/td>\n",
       "    <\/tr>\n",
       "    <tr>\n",
       "      <th>4<\/th>\n",
       "      <td>373-73-7910<\/td>\n",
       "      <td>A<\/td>\n",
       "      <td>Yangon<\/td>\n",
       "      <td>Normal<\/td>\n",
       "      <td>Male<\/td>\n",
       "      <td>Sports and travel<\/td>\n",
       "      <td>86.31<\/td>\n",
       "      <td>7<\/td>\n",
       "      <td>30.2085<\/td>\n",
       "      <td>634.3785<\/td>\n",
       "      <td>2\/8\/2019<\/td>\n",
       "      <td>10:37<\/td>\n",
       "      <td>Ewallet<\/td>\n",
       "      <td>604.17<\/td>\n",
       "      <td>4.761905<\/td>\n",
       "      <td>30.2085<\/td>\n",
       "      <td>5.3<\/td>\n",
       "    <\/tr>\n",
       "    <tr>\n",
       "      <th>...<\/th>\n",
       "      <td>...<\/td>\n",
       "      <td>...<\/td>\n",
       "      <td>...<\/td>\n",
       "      <td>...<\/td>\n",
       "      <td>...<\/td>\n",
       "      <td>...<\/td>\n",
       "      <td>...<\/td>\n",
       "      <td>...<\/td>\n",
       "      <td>...<\/td>\n",
       "      <td>...<\/td>\n",
       "      <td>...<\/td>\n",
       "      <td>...<\/td>\n",
       "      <td>...<\/td>\n",
       "      <td>...<\/td>\n",
       "      <td>...<\/td>\n",
       "      <td>...<\/td>\n",
       "      <td>...<\/td>\n",
       "    <\/tr>\n",
       "    <tr>\n",
       "      <th>995<\/th>\n",
       "      <td>233-67-5758<\/td>\n",
       "      <td>C<\/td>\n",
       "      <td>Naypyitaw<\/td>\n",
       "      <td>Normal<\/td>\n",
       "      <td>Male<\/td>\n",
       "      <td>Health and beauty<\/td>\n",
       "      <td>40.35<\/td>\n",
       "      <td>1<\/td>\n",
       "      <td>2.0175<\/td>\n",
       "      <td>42.3675<\/td>\n",
       "      <td>1\/29\/2019<\/td>\n",
       "      <td>13:46<\/td>\n",
       "      <td>Ewallet<\/td>\n",
       "      <td>40.35<\/td>\n",
       "      <td>4.761905<\/td>\n",
       "      <td>2.0175<\/td>\n",
       "      <td>6.2<\/td>\n",
       "    <\/tr>\n",
       "    <tr>\n",
       "      <th>996<\/th>\n",
       "      <td>303-96-2227<\/td>\n",
       "      <td>B<\/td>\n",
       "      <td>Mandalay<\/td>\n",
       "      <td>Normal<\/td>\n",
       "      <td>Female<\/td>\n",
       "      <td>Home and lifestyle<\/td>\n",
       "      <td>97.38<\/td>\n",
       "      <td>10<\/td>\n",
       "      <td>48.6900<\/td>\n",
       "      <td>1022.4900<\/td>\n",
       "      <td>3\/2\/2019<\/td>\n",
       "      <td>17:16<\/td>\n",
       "      <td>Ewallet<\/td>\n",
       "      <td>973.80<\/td>\n",
       "      <td>4.761905<\/td>\n",
       "      <td>48.6900<\/td>\n",
       "      <td>4.4<\/td>\n",
       "    <\/tr>\n",
       "    <tr>\n",
       "      <th>997<\/th>\n",
       "      <td>727-02-1313<\/td>\n",
       "      <td>A<\/td>\n",
       "      <td>Yangon<\/td>\n",
       "      <td>Member<\/td>\n",
       "      <td>Male<\/td>\n",
       "      <td>Food and beverages<\/td>\n",
       "      <td>31.84<\/td>\n",
       "      <td>1<\/td>\n",
       "      <td>1.5920<\/td>\n",
       "      <td>33.4320<\/td>\n",
       "      <td>2\/9\/2019<\/td>\n",
       "      <td>13:22<\/td>\n",
       "      <td>Cash<\/td>\n",
       "      <td>31.84<\/td>\n",
       "      <td>4.761905<\/td>\n",
       "      <td>1.5920<\/td>\n",
       "      <td>7.7<\/td>\n",
       "    <\/tr>\n",
       "    <tr>\n",
       "      <th>998<\/th>\n",
       "      <td>347-56-2442<\/td>\n",
       "      <td>A<\/td>\n",
       "      <td>Yangon<\/td>\n",
       "      <td>Normal<\/td>\n",
       "      <td>Male<\/td>\n",
       "      <td>Home and lifestyle<\/td>\n",
       "      <td>65.82<\/td>\n",
       "      <td>1<\/td>\n",
       "      <td>3.2910<\/td>\n",
       "      <td>69.1110<\/td>\n",
       "      <td>2\/22\/2019<\/td>\n",
       "      <td>15:33<\/td>\n",
       "      <td>Cash<\/td>\n",
       "      <td>65.82<\/td>\n",
       "      <td>4.761905<\/td>\n",
       "      <td>3.2910<\/td>\n",
       "      <td>4.1<\/td>\n",
       "    <\/tr>\n",
       "    <tr>\n",
       "      <th>999<\/th>\n",
       "      <td>849-09-3807<\/td>\n",
       "      <td>A<\/td>\n",
       "      <td>Yangon<\/td>\n",
       "      <td>Member<\/td>\n",
       "      <td>Female<\/td>\n",
       "      <td>Fashion accessories<\/td>\n",
       "      <td>88.34<\/td>\n",
       "      <td>7<\/td>\n",
       "      <td>30.9190<\/td>\n",
       "      <td>649.2990<\/td>\n",
       "      <td>2\/18\/2019<\/td>\n",
       "      <td>13:28<\/td>\n",
       "      <td>Cash<\/td>\n",
       "      <td>618.38<\/td>\n",
       "      <td>4.761905<\/td>\n",
       "      <td>30.9190<\/td>\n",
       "      <td>6.6<\/td>\n",
       "    <\/tr>\n",
       "  <\/tbody>\n",
       "<\/table>\n",
       "<p>1000 rows × 17 columns<\/p>\n",
       "<\/div>"
      ]
     },
     "metadata":{
      
     },
     "output_type":"display_data"
    }
   ],
   "metadata":{
    "datalore":{
     "type":"CODE",
     "hide_input_from_viewers":false,
     "hide_output_from_viewers":false
    }
   }
  },
  {
   "cell_type":"code",
   "source":[
    "m= x[[ 'Quantity' , 'Unit price' , 'Tax 5%', 'Rating', 'Total' , 'cogs' , 'gross income'  ]]"
   ],
   "execution_count":4,
   "outputs":[
    
   ],
   "metadata":{
    "datalore":{
     "type":"CODE",
     "hide_input_from_viewers":false,
     "hide_output_from_viewers":false
    }
   }
  },
  {
   "cell_type":"code",
   "source":[
    "m"
   ],
   "execution_count":5,
   "outputs":[
    {
     "data":{
      "text\/html":[
       "<div>\n",
       "<style scoped>\n",
       "    .dataframe tbody tr th:only-of-type {\n",
       "        vertical-align: middle;\n",
       "    }\n",
       "\n",
       "    .dataframe tbody tr th {\n",
       "        vertical-align: top;\n",
       "    }\n",
       "\n",
       "    .dataframe thead th {\n",
       "        text-align: right;\n",
       "    }\n",
       "<\/style>\n",
       "<table border=\"1\" class=\"dataframe\">\n",
       "  <thead>\n",
       "    <tr style=\"text-align: right;\">\n",
       "      <th><\/th>\n",
       "      <th>Quantity<\/th>\n",
       "      <th>Unit price<\/th>\n",
       "      <th>Tax 5%<\/th>\n",
       "      <th>Rating<\/th>\n",
       "      <th>Total<\/th>\n",
       "      <th>cogs<\/th>\n",
       "      <th>gross income<\/th>\n",
       "    <\/tr>\n",
       "  <\/thead>\n",
       "  <tbody>\n",
       "    <tr>\n",
       "      <th>0<\/th>\n",
       "      <td>7<\/td>\n",
       "      <td>74.69<\/td>\n",
       "      <td>26.1415<\/td>\n",
       "      <td>9.1<\/td>\n",
       "      <td>548.9715<\/td>\n",
       "      <td>522.83<\/td>\n",
       "      <td>26.1415<\/td>\n",
       "    <\/tr>\n",
       "    <tr>\n",
       "      <th>1<\/th>\n",
       "      <td>5<\/td>\n",
       "      <td>15.28<\/td>\n",
       "      <td>3.8200<\/td>\n",
       "      <td>9.6<\/td>\n",
       "      <td>80.2200<\/td>\n",
       "      <td>76.40<\/td>\n",
       "      <td>3.8200<\/td>\n",
       "    <\/tr>\n",
       "    <tr>\n",
       "      <th>2<\/th>\n",
       "      <td>7<\/td>\n",
       "      <td>46.33<\/td>\n",
       "      <td>16.2155<\/td>\n",
       "      <td>7.4<\/td>\n",
       "      <td>340.5255<\/td>\n",
       "      <td>324.31<\/td>\n",
       "      <td>16.2155<\/td>\n",
       "    <\/tr>\n",
       "    <tr>\n",
       "      <th>3<\/th>\n",
       "      <td>8<\/td>\n",
       "      <td>58.22<\/td>\n",
       "      <td>23.2880<\/td>\n",
       "      <td>8.4<\/td>\n",
       "      <td>489.0480<\/td>\n",
       "      <td>465.76<\/td>\n",
       "      <td>23.2880<\/td>\n",
       "    <\/tr>\n",
       "    <tr>\n",
       "      <th>4<\/th>\n",
       "      <td>7<\/td>\n",
       "      <td>86.31<\/td>\n",
       "      <td>30.2085<\/td>\n",
       "      <td>5.3<\/td>\n",
       "      <td>634.3785<\/td>\n",
       "      <td>604.17<\/td>\n",
       "      <td>30.2085<\/td>\n",
       "    <\/tr>\n",
       "    <tr>\n",
       "      <th>...<\/th>\n",
       "      <td>...<\/td>\n",
       "      <td>...<\/td>\n",
       "      <td>...<\/td>\n",
       "      <td>...<\/td>\n",
       "      <td>...<\/td>\n",
       "      <td>...<\/td>\n",
       "      <td>...<\/td>\n",
       "    <\/tr>\n",
       "    <tr>\n",
       "      <th>995<\/th>\n",
       "      <td>1<\/td>\n",
       "      <td>40.35<\/td>\n",
       "      <td>2.0175<\/td>\n",
       "      <td>6.2<\/td>\n",
       "      <td>42.3675<\/td>\n",
       "      <td>40.35<\/td>\n",
       "      <td>2.0175<\/td>\n",
       "    <\/tr>\n",
       "    <tr>\n",
       "      <th>996<\/th>\n",
       "      <td>10<\/td>\n",
       "      <td>97.38<\/td>\n",
       "      <td>48.6900<\/td>\n",
       "      <td>4.4<\/td>\n",
       "      <td>1022.4900<\/td>\n",
       "      <td>973.80<\/td>\n",
       "      <td>48.6900<\/td>\n",
       "    <\/tr>\n",
       "    <tr>\n",
       "      <th>997<\/th>\n",
       "      <td>1<\/td>\n",
       "      <td>31.84<\/td>\n",
       "      <td>1.5920<\/td>\n",
       "      <td>7.7<\/td>\n",
       "      <td>33.4320<\/td>\n",
       "      <td>31.84<\/td>\n",
       "      <td>1.5920<\/td>\n",
       "    <\/tr>\n",
       "    <tr>\n",
       "      <th>998<\/th>\n",
       "      <td>1<\/td>\n",
       "      <td>65.82<\/td>\n",
       "      <td>3.2910<\/td>\n",
       "      <td>4.1<\/td>\n",
       "      <td>69.1110<\/td>\n",
       "      <td>65.82<\/td>\n",
       "      <td>3.2910<\/td>\n",
       "    <\/tr>\n",
       "    <tr>\n",
       "      <th>999<\/th>\n",
       "      <td>7<\/td>\n",
       "      <td>88.34<\/td>\n",
       "      <td>30.9190<\/td>\n",
       "      <td>6.6<\/td>\n",
       "      <td>649.2990<\/td>\n",
       "      <td>618.38<\/td>\n",
       "      <td>30.9190<\/td>\n",
       "    <\/tr>\n",
       "  <\/tbody>\n",
       "<\/table>\n",
       "<p>1000 rows × 7 columns<\/p>\n",
       "<\/div>"
      ]
     },
     "metadata":{
      
     },
     "output_type":"display_data"
    }
   ],
   "metadata":{
    "datalore":{
     "type":"CODE",
     "hide_input_from_viewers":false,
     "hide_output_from_viewers":false
    }
   }
  },
  {
   "cell_type":"code",
   "source":[
    "m.mean()"
   ],
   "execution_count":6,
   "outputs":[
    {
     "data":{
      "text\/html":[
       
      ]
     },
     "metadata":{
      
     },
     "output_type":"display_data"
    }
   ],
   "metadata":{
    "datalore":{
     "type":"CODE",
     "hide_input_from_viewers":false,
     "hide_output_from_viewers":false
    }
   }
  },
  {
   "cell_type":"code",
   "source":[
    "m.median()"
   ],
   "execution_count":7,
   "outputs":[
    {
     "data":{
      "text\/html":[
       
      ]
     },
     "metadata":{
      
     },
     "output_type":"display_data"
    }
   ],
   "metadata":{
    "datalore":{
     "type":"CODE",
     "hide_input_from_viewers":false,
     "hide_output_from_viewers":false
    }
   }
  },
  {
   "cell_type":"code",
   "source":[
    "!pip install numpy\n",
    "import numpy as np"
   ],
   "execution_count":8,
   "outputs":[
    {
     "name":"stdout",
     "text":[
      "Requirement already satisfied: numpy in \/opt\/python\/envs\/default\/lib\/python3.8\/site-packages (1.21.5)\r\n",
      "\u001b[33mWARNING: You are using pip version 21.3.1; however, version 22.0.3 is available.\r\n",
      "You should consider upgrading via the '\/opt\/python\/envs\/default\/bin\/python -m pip install --upgrade pip' command.\u001b[0m\r\n"
     ],
     "output_type":"stream"
    }
   ],
   "metadata":{
    "datalore":{
     "type":"CODE",
     "hide_input_from_viewers":false,
     "hide_output_from_viewers":false
    }
   }
  },
  {
   "cell_type":"code",
   "source":[
    "a=np.array([x['Quantity'].quantile(0) ,\n",
    "x['Quantity'].quantile(0.25) ,\n",
    "x['Quantity'].quantile(0.5)  ,\n",
    "x['Quantity'].quantile(0.75) ,\n",
    "x['Quantity'].quantile(1) ,])\n",
    "print(a)"
   ],
   "execution_count":9,
   "outputs":[
    {
     "name":"stdout",
     "text":[
      "[ 1.  3.  5.  8. 10.]\n"
     ],
     "output_type":"stream"
    }
   ],
   "metadata":{
    "datalore":{
     "type":"CODE",
     "hide_input_from_viewers":false,
     "hide_output_from_viewers":false
    }
   }
  },
  {
   "cell_type":"code",
   "source":[
    "b=np.array([x['Tax 5%'].quantile(0) ,\n",
    "x['Tax 5%'].quantile(0.25) ,\n",
    "x['Tax 5%'].quantile(0.5)  ,\n",
    "x['Tax 5%'].quantile(0.75) ,\n",
    "x['Tax 5%'].quantile(1) ,])\n",
    "print(b)"
   ],
   "execution_count":10,
   "outputs":[
    {
     "name":"stdout",
     "text":[
      "[ 0.5085    5.924875 12.088    22.44525  49.65    ]\n"
     ],
     "output_type":"stream"
    }
   ],
   "metadata":{
    "datalore":{
     "type":"CODE",
     "hide_input_from_viewers":false,
     "hide_output_from_viewers":false
    }
   }
  },
  {
   "cell_type":"code",
   "source":[
    "c=np.array([x['Unit price'].quantile(0) ,\n",
    "x['Unit price'].quantile(0.25) ,\n",
    "x['Unit price'].quantile(0.5)  ,\n",
    "x['Unit price'].quantile(0.75) ,\n",
    "x['Unit price'].quantile(1) ,])\n",
    "print(c)"
   ],
   "execution_count":11,
   "outputs":[
    {
     "name":"stdout",
     "text":[
      "[10.08  32.875 55.23  77.935 99.96 ]\n"
     ],
     "output_type":"stream"
    }
   ],
   "metadata":{
    "datalore":{
     "type":"CODE",
     "hide_input_from_viewers":false,
     "hide_output_from_viewers":false
    }
   }
  },
  {
   "cell_type":"code",
   "source":[
    "d=np.array([x['Rating'].quantile(0) ,\n",
    "x['Rating'].quantile(0.25) ,\n",
    "x['Rating'].quantile(0.5)  ,\n",
    "x['Rating'].quantile(0.75) ,\n",
    "x['Rating'].quantile(1) ,])\n",
    "print(d)"
   ],
   "execution_count":12,
   "outputs":[
    {
     "name":"stdout",
     "text":[
      "[ 4.   5.5  7.   8.5 10. ]\n"
     ],
     "output_type":"stream"
    }
   ],
   "metadata":{
    "datalore":{
     "type":"CODE",
     "hide_input_from_viewers":false,
     "hide_output_from_viewers":false
    }
   }
  },
  {
   "cell_type":"code",
   "source":[
    "e=np.array([x['Total'].quantile(0) ,\n",
    "x['Total'].quantile(0.25) ,\n",
    "x['Total'].quantile(0.5)  ,\n",
    "x['Total'].quantile(0.75) ,\n",
    "x['Total'].quantile(1) ,])\n",
    "print(e)"
   ],
   "execution_count":13,
   "outputs":[
    {
     "name":"stdout",
     "text":[
      "[  10.6785    124.422375  253.848     471.35025  1042.65    ]\n"
     ],
     "output_type":"stream"
    }
   ],
   "metadata":{
    "datalore":{
     "type":"CODE",
     "hide_input_from_viewers":false,
     "hide_output_from_viewers":false
    }
   }
  },
  {
   "cell_type":"code",
   "source":[
    "f=np.array([x['cogs'].quantile(0) ,\n",
    "x['cogs'].quantile(0.25) ,\n",
    "x['cogs'].quantile(0.5)  ,\n",
    "x['cogs'].quantile(0.75) ,\n",
    "x['cogs'].quantile(1) ,])\n",
    "print(f)"
   ],
   "execution_count":14,
   "outputs":[
    {
     "name":"stdout",
     "text":[
      "[ 10.17   118.4975 241.76   448.905  993.    ]\n"
     ],
     "output_type":"stream"
    }
   ],
   "metadata":{
    "datalore":{
     "type":"CODE",
     "hide_input_from_viewers":false,
     "hide_output_from_viewers":false
    }
   }
  },
  {
   "cell_type":"code",
   "source":[
    "g=np.array([x['gross income'].quantile(0) ,\n",
    "x['gross income'].quantile(0.25) ,\n",
    "x['gross income'].quantile(0.5)  ,\n",
    "x['gross income'].quantile(0.75) ,\n",
    "x['gross income'].quantile(1) ,])\n",
    "print(g)"
   ],
   "execution_count":15,
   "outputs":[
    {
     "name":"stdout",
     "text":[
      "[ 0.5085    5.924875 12.088    22.44525  49.65    ]\n"
     ],
     "output_type":"stream"
    }
   ],
   "metadata":{
    "datalore":{
     "type":"CODE",
     "hide_input_from_viewers":false,
     "hide_output_from_viewers":false
    }
   }
  },
  {
   "cell_type":"code",
   "source":[
    "m.var()"
   ],
   "execution_count":16,
   "outputs":[
    {
     "data":{
      "text\/html":[
       
      ]
     },
     "metadata":{
      
     },
     "output_type":"display_data"
    }
   ],
   "metadata":{
    "datalore":{
     "type":"CODE",
     "hide_input_from_viewers":false,
     "hide_output_from_viewers":false
    }
   }
  },
  {
   "cell_type":"code",
   "source":[
    "m.std()"
   ],
   "execution_count":17,
   "outputs":[
    {
     "data":{
      "text\/html":[
       
      ]
     },
     "metadata":{
      
     },
     "output_type":"display_data"
    }
   ],
   "metadata":{
    "datalore":{
     "type":"CODE",
     "hide_input_from_viewers":false,
     "hide_output_from_viewers":false
    }
   }
  },
  {
   "cell_type":"code",
   "source":[
    "x[['Tax 5%', 'Unit price']].corr(method='pearson')"
   ],
   "execution_count":18,
   "outputs":[
    {
     "data":{
      "text\/html":[
       "<div>\n",
       "<style scoped>\n",
       "    .dataframe tbody tr th:only-of-type {\n",
       "        vertical-align: middle;\n",
       "    }\n",
       "\n",
       "    .dataframe tbody tr th {\n",
       "        vertical-align: top;\n",
       "    }\n",
       "\n",
       "    .dataframe thead th {\n",
       "        text-align: right;\n",
       "    }\n",
       "<\/style>\n",
       "<table border=\"1\" class=\"dataframe\">\n",
       "  <thead>\n",
       "    <tr style=\"text-align: right;\">\n",
       "      <th><\/th>\n",
       "      <th>Tax 5%<\/th>\n",
       "      <th>Unit price<\/th>\n",
       "    <\/tr>\n",
       "  <\/thead>\n",
       "  <tbody>\n",
       "    <tr>\n",
       "      <th>Tax 5%<\/th>\n",
       "      <td>1.000000<\/td>\n",
       "      <td>0.633962<\/td>\n",
       "    <\/tr>\n",
       "    <tr>\n",
       "      <th>Unit price<\/th>\n",
       "      <td>0.633962<\/td>\n",
       "      <td>1.000000<\/td>\n",
       "    <\/tr>\n",
       "  <\/tbody>\n",
       "<\/table>\n",
       "<\/div>"
      ]
     },
     "metadata":{
      
     },
     "output_type":"display_data"
    }
   ],
   "metadata":{
    "datalore":{
     "type":"CODE",
     "hide_input_from_viewers":false,
     "hide_output_from_viewers":false
    }
   }
  },
  {
   "cell_type":"markdown",
   "source":[
    "the correlation coefficient is close to 1 which shows a strong relation betweem the unit price and the tax; which is what was expected"
   ],
   "attachments":{
    
   },
   "metadata":{
    "datalore":{
     "type":"MD",
     "hide_input_from_viewers":false,
     "hide_output_from_viewers":false
    }
   }
  },
  {
   "cell_type":"code",
   "source":[
    "x[['Quantity', 'Unit price']].corr(method='pearson')"
   ],
   "execution_count":19,
   "outputs":[
    {
     "data":{
      "text\/html":[
       "<div>\n",
       "<style scoped>\n",
       "    .dataframe tbody tr th:only-of-type {\n",
       "        vertical-align: middle;\n",
       "    }\n",
       "\n",
       "    .dataframe tbody tr th {\n",
       "        vertical-align: top;\n",
       "    }\n",
       "\n",
       "    .dataframe thead th {\n",
       "        text-align: right;\n",
       "    }\n",
       "<\/style>\n",
       "<table border=\"1\" class=\"dataframe\">\n",
       "  <thead>\n",
       "    <tr style=\"text-align: right;\">\n",
       "      <th><\/th>\n",
       "      <th>Quantity<\/th>\n",
       "      <th>Unit price<\/th>\n",
       "    <\/tr>\n",
       "  <\/thead>\n",
       "  <tbody>\n",
       "    <tr>\n",
       "      <th>Quantity<\/th>\n",
       "      <td>1.000000<\/td>\n",
       "      <td>0.010778<\/td>\n",
       "    <\/tr>\n",
       "    <tr>\n",
       "      <th>Unit price<\/th>\n",
       "      <td>0.010778<\/td>\n",
       "      <td>1.000000<\/td>\n",
       "    <\/tr>\n",
       "  <\/tbody>\n",
       "<\/table>\n",
       "<\/div>"
      ]
     },
     "metadata":{
      
     },
     "output_type":"display_data"
    }
   ],
   "metadata":{
    "datalore":{
     "type":"CODE",
     "hide_input_from_viewers":false,
     "hide_output_from_viewers":false
    }
   }
  },
  {
   "cell_type":"markdown",
   "source":[
    "since the coefficient correlation is close to zero, therefore there is no linear relationship between Quantity and Unit price"
   ],
   "attachments":{
    
   },
   "metadata":{
    "datalore":{
     "type":"MD",
     "hide_input_from_viewers":false,
     "hide_output_from_viewers":false
    }
   }
  },
  {
   "cell_type":"code",
   "source":[
    "x['Quantity'].value_counts()"
   ],
   "execution_count":20,
   "outputs":[
    {
     "data":{
      "text\/html":[
       
      ]
     },
     "metadata":{
      
     },
     "output_type":"display_data"
    }
   ],
   "metadata":{
    "datalore":{
     "type":"CODE",
     "hide_input_from_viewers":false,
     "hide_output_from_viewers":false
    }
   }
  },
  {
   "cell_type":"code",
   "source":[
    "x['Quantity'].value_counts(normalize=True)"
   ],
   "execution_count":21,
   "outputs":[
    {
     "data":{
      "text\/html":[
       
      ]
     },
     "metadata":{
      
     },
     "output_type":"display_data"
    }
   ],
   "metadata":{
    "datalore":{
     "type":"CODE",
     "hide_input_from_viewers":false,
     "hide_output_from_viewers":false
    }
   }
  },
  {
   "cell_type":"markdown",
   "source":[
    "the discrete variable Quantity doesnt have a certain relation\/shape that it follows. the most quantity of items bought is 10 with a percentage of 11.9 and the least is 8 with a percentage of 8.5"
   ],
   "attachments":{
    
   },
   "metadata":{
    "datalore":{
     "type":"MD",
     "hide_input_from_viewers":false,
     "hide_output_from_viewers":false
    }
   }
  },
  {
   "cell_type":"code",
   "source":[
    "x['Gender'].value_counts()"
   ],
   "execution_count":22,
   "outputs":[
    {
     "data":{
      "text\/html":[
       
      ]
     },
     "metadata":{
      
     },
     "output_type":"display_data"
    }
   ],
   "metadata":{
    "datalore":{
     "type":"CODE",
     "hide_input_from_viewers":false,
     "hide_output_from_viewers":false
    }
   }
  },
  {
   "cell_type":"code",
   "source":[
    "x['Gender'].value_counts(normalize=True)"
   ],
   "execution_count":23,
   "outputs":[
    {
     "data":{
      "text\/html":[
       
      ]
     },
     "metadata":{
      
     },
     "output_type":"display_data"
    }
   ],
   "metadata":{
    "datalore":{
     "type":"CODE",
     "hide_input_from_viewers":false,
     "hide_output_from_viewers":false
    }
   }
  },
  {
   "cell_type":"markdown",
   "source":[
    "the discrete variable gender shows an approximatly half-half relationship of males and females going to the 3 branches of supermarket"
   ],
   "attachments":{
    
   },
   "metadata":{
    "datalore":{
     "type":"MD",
     "hide_input_from_viewers":false,
     "hide_output_from_viewers":false
    }
   }
  },
  {
   "cell_type":"code",
   "source":[
    "x['Branch'].value_counts()"
   ],
   "execution_count":24,
   "outputs":[
    {
     "data":{
      "text\/html":[
       
      ]
     },
     "metadata":{
      
     },
     "output_type":"display_data"
    }
   ],
   "metadata":{
    "datalore":{
     "type":"CODE",
     "hide_input_from_viewers":false,
     "hide_output_from_viewers":false
    }
   }
  },
  {
   "cell_type":"code",
   "source":[
    "x['Branch'].value_counts(normalize=True)"
   ],
   "execution_count":25,
   "outputs":[
    {
     "data":{
      "text\/html":[
       
      ]
     },
     "metadata":{
      
     },
     "output_type":"display_data"
    }
   ],
   "metadata":{
    "datalore":{
     "type":"CODE",
     "hide_input_from_viewers":false,
     "hide_output_from_viewers":false
    }
   }
  },
  {
   "cell_type":"markdown",
   "source":[
    "the discrete variable branch shows a nearly equal observations from all the 3 branches"
   ],
   "attachments":{
    
   },
   "metadata":{
    "datalore":{
     "type":"MD",
     "hide_input_from_viewers":false,
     "hide_output_from_viewers":false
    }
   }
  },
  {
   "cell_type":"code",
   "source":[
    "q=pd.crosstab(x['Gender'], x['Branch'])\n",
    "q"
   ],
   "execution_count":26,
   "outputs":[
    {
     "data":{
      "text\/html":[
       "<div>\n",
       "<style scoped>\n",
       "    .dataframe tbody tr th:only-of-type {\n",
       "        vertical-align: middle;\n",
       "    }\n",
       "\n",
       "    .dataframe tbody tr th {\n",
       "        vertical-align: top;\n",
       "    }\n",
       "\n",
       "    .dataframe thead th {\n",
       "        text-align: right;\n",
       "    }\n",
       "<\/style>\n",
       "<table border=\"1\" class=\"dataframe\">\n",
       "  <thead>\n",
       "    <tr style=\"text-align: right;\">\n",
       "      <th>Branch<\/th>\n",
       "      <th>A<\/th>\n",
       "      <th>B<\/th>\n",
       "      <th>C<\/th>\n",
       "    <\/tr>\n",
       "    <tr>\n",
       "      <th>Gender<\/th>\n",
       "      <th><\/th>\n",
       "      <th><\/th>\n",
       "      <th><\/th>\n",
       "    <\/tr>\n",
       "  <\/thead>\n",
       "  <tbody>\n",
       "    <tr>\n",
       "      <th>Female<\/th>\n",
       "      <td>161<\/td>\n",
       "      <td>162<\/td>\n",
       "      <td>178<\/td>\n",
       "    <\/tr>\n",
       "    <tr>\n",
       "      <th>Male<\/th>\n",
       "      <td>179<\/td>\n",
       "      <td>170<\/td>\n",
       "      <td>150<\/td>\n",
       "    <\/tr>\n",
       "  <\/tbody>\n",
       "<\/table>\n",
       "<\/div>"
      ]
     },
     "metadata":{
      
     },
     "output_type":"display_data"
    }
   ],
   "metadata":{
    "datalore":{
     "type":"CODE",
     "hide_input_from_viewers":false,
     "hide_output_from_viewers":false
    }
   }
  },
  {
   "cell_type":"code",
   "source":[
    "!pip install statsmodels"
   ],
   "execution_count":27,
   "outputs":[
    {
     "name":"stdout",
     "text":[
      "Requirement already satisfied: statsmodels in \/opt\/python\/envs\/default\/lib\/python3.8\/site-packages (0.13.1)\r\n",
      "Requirement already satisfied: pandas>=0.25 in \/opt\/python\/envs\/default\/lib\/python3.8\/site-packages (from statsmodels) (1.3.5)\r\n",
      "Requirement already satisfied: patsy>=0.5.2 in \/opt\/python\/envs\/default\/lib\/python3.8\/site-packages (from statsmodels) (0.5.2)\r\n",
      "Requirement already satisfied: scipy>=1.3 in \/opt\/python\/envs\/default\/lib\/python3.8\/site-packages (from statsmodels) (1.7.3)\r\n",
      "Requirement already satisfied: numpy>=1.17 in \/opt\/python\/envs\/default\/lib\/python3.8\/site-packages (from statsmodels) (1.21.5)\r\n",
      "Requirement already satisfied: python-dateutil>=2.7.3 in \/opt\/python\/envs\/default\/lib\/python3.8\/site-packages (from pandas>=0.25->statsmodels) (2.8.2)\r\n",
      "Requirement already satisfied: pytz>=2017.3 in \/opt\/python\/envs\/default\/lib\/python3.8\/site-packages (from pandas>=0.25->statsmodels) (2021.3)\r\n",
      "Requirement already satisfied: six in \/opt\/python\/envs\/default\/lib\/python3.8\/site-packages (from patsy>=0.5.2->statsmodels) (1.16.0)\r\n",
      "\u001b[33mWARNING: You are using pip version 21.3.1; however, version 22.0.3 is available.\r\n",
      "You should consider upgrading via the '\/opt\/python\/envs\/default\/bin\/python -m pip install --upgrade pip' command.\u001b[0m\r\n"
     ],
     "output_type":"stream"
    }
   ],
   "metadata":{
    "datalore":{
     "type":"CODE",
     "hide_input_from_viewers":false,
     "hide_output_from_viewers":false
    }
   }
  },
  {
   "cell_type":"code",
   "source":[
    "import statsmodels.api as sm"
   ],
   "execution_count":28,
   "outputs":[
    
   ],
   "metadata":{
    "datalore":{
     "type":"CODE",
     "hide_input_from_viewers":false,
     "hide_output_from_viewers":false
    }
   }
  },
  {
   "cell_type":"code",
   "source":[
    "tab = pd.crosstab(x['Branch'], x['Gender'])"
   ],
   "execution_count":29,
   "outputs":[
    
   ],
   "metadata":{
    "datalore":{
     "type":"CODE",
     "hide_input_from_viewers":false,
     "hide_output_from_viewers":false
    }
   }
  },
  {
   "cell_type":"code",
   "source":[
    " tab.loc[:, ['Female'] ]"
   ],
   "execution_count":30,
   "outputs":[
    {
     "data":{
      "text\/html":[
       "<div>\n",
       "<style scoped>\n",
       "    .dataframe tbody tr th:only-of-type {\n",
       "        vertical-align: middle;\n",
       "    }\n",
       "\n",
       "    .dataframe tbody tr th {\n",
       "        vertical-align: top;\n",
       "    }\n",
       "\n",
       "    .dataframe thead th {\n",
       "        text-align: right;\n",
       "    }\n",
       "<\/style>\n",
       "<table border=\"1\" class=\"dataframe\">\n",
       "  <thead>\n",
       "    <tr style=\"text-align: right;\">\n",
       "      <th>Gender<\/th>\n",
       "      <th>Female<\/th>\n",
       "    <\/tr>\n",
       "    <tr>\n",
       "      <th>Branch<\/th>\n",
       "      <th><\/th>\n",
       "    <\/tr>\n",
       "  <\/thead>\n",
       "  <tbody>\n",
       "    <tr>\n",
       "      <th>A<\/th>\n",
       "      <td>161<\/td>\n",
       "    <\/tr>\n",
       "    <tr>\n",
       "      <th>B<\/th>\n",
       "      <td>162<\/td>\n",
       "    <\/tr>\n",
       "    <tr>\n",
       "      <th>C<\/th>\n",
       "      <td>178<\/td>\n",
       "    <\/tr>\n",
       "  <\/tbody>\n",
       "<\/table>\n",
       "<\/div>"
      ]
     },
     "metadata":{
      
     },
     "output_type":"display_data"
    }
   ],
   "metadata":{
    "datalore":{
     "type":"CODE",
     "hide_input_from_viewers":false,
     "hide_output_from_viewers":false
    }
   }
  },
  {
   "cell_type":"code",
   "source":[
    "table = sm.stats.Table(tab)"
   ],
   "execution_count":31,
   "outputs":[
    
   ],
   "metadata":{
    "datalore":{
     "type":"CODE",
     "hide_input_from_viewers":false,
     "hide_output_from_viewers":false
    }
   }
  },
  {
   "cell_type":"code",
   "source":[
    "table.resid_pearson"
   ],
   "execution_count":32,
   "outputs":[
    {
     "data":{
      "text\/html":[
       "<div>\n",
       "<style scoped>\n",
       "    .dataframe tbody tr th:only-of-type {\n",
       "        vertical-align: middle;\n",
       "    }\n",
       "\n",
       "    .dataframe tbody tr th {\n",
       "        vertical-align: top;\n",
       "    }\n",
       "\n",
       "    .dataframe thead th {\n",
       "        text-align: right;\n",
       "    }\n",
       "<\/style>\n",
       "<table border=\"1\" class=\"dataframe\">\n",
       "  <thead>\n",
       "    <tr style=\"text-align: right;\">\n",
       "      <th>Gender<\/th>\n",
       "      <th>Female<\/th>\n",
       "      <th>Male<\/th>\n",
       "    <\/tr>\n",
       "    <tr>\n",
       "      <th>Branch<\/th>\n",
       "      <th><\/th>\n",
       "      <th><\/th>\n",
       "    <\/tr>\n",
       "  <\/thead>\n",
       "  <tbody>\n",
       "    <tr>\n",
       "      <th>A<\/th>\n",
       "      <td>-0.715630<\/td>\n",
       "      <td>0.717063<\/td>\n",
       "    <\/tr>\n",
       "    <tr>\n",
       "      <th>B<\/th>\n",
       "      <td>-0.335893<\/td>\n",
       "      <td>0.336565<\/td>\n",
       "    <\/tr>\n",
       "    <tr>\n",
       "      <th>C<\/th>\n",
       "      <td>1.066538<\/td>\n",
       "      <td>-1.068673<\/td>\n",
       "    <\/tr>\n",
       "  <\/tbody>\n",
       "<\/table>\n",
       "<\/div>"
      ]
     },
     "metadata":{
      
     },
     "output_type":"display_data"
    }
   ],
   "metadata":{
    "datalore":{
     "type":"CODE",
     "hide_input_from_viewers":false,
     "hide_output_from_viewers":false
    }
   }
  },
  {
   "cell_type":"markdown",
   "source":[
    "since the pearson risidual is close to zero and has a modulus of less than 2, therefore the variables are independant "
   ],
   "attachments":{
    
   },
   "metadata":{
    "datalore":{
     "type":"MD",
     "hide_input_from_viewers":false,
     "hide_output_from_viewers":false
    }
   }
  },
  {
   "cell_type":"code",
   "source":[
    "!pip install seaborn "
   ],
   "execution_count":33,
   "outputs":[
    {
     "name":"stdout",
     "text":[
      "Requirement already satisfied: seaborn in \/opt\/python\/envs\/default\/lib\/python3.8\/site-packages (0.11.2)\r\n",
      "Requirement already satisfied: numpy>=1.15 in \/opt\/python\/envs\/default\/lib\/python3.8\/site-packages (from seaborn) (1.21.5)\r\n",
      "Requirement already satisfied: scipy>=1.0 in \/opt\/python\/envs\/default\/lib\/python3.8\/site-packages (from seaborn) (1.7.3)\r\n",
      "Requirement already satisfied: matplotlib>=2.2 in \/opt\/python\/envs\/default\/lib\/python3.8\/site-packages (from seaborn) (3.5.1)\r\n",
      "Requirement already satisfied: pandas>=0.23 in \/opt\/python\/envs\/default\/lib\/python3.8\/site-packages (from seaborn) (1.3.5)\r\n",
      "Requirement already satisfied: packaging>=20.0 in \/opt\/python\/envs\/default\/lib\/python3.8\/site-packages (from matplotlib>=2.2->seaborn) (21.3)\r\n",
      "Requirement already satisfied: kiwisolver>=1.0.1 in \/opt\/python\/envs\/default\/lib\/python3.8\/site-packages (from matplotlib>=2.2->seaborn) (1.3.2)\r\n",
      "Requirement already satisfied: fonttools>=4.22.0 in \/opt\/python\/envs\/default\/lib\/python3.8\/site-packages (from matplotlib>=2.2->seaborn) (4.29.1)\r\n",
      "Requirement already satisfied: pillow>=6.2.0 in \/opt\/python\/envs\/default\/lib\/python3.8\/site-packages (from matplotlib>=2.2->seaborn) (9.0.1)\r\n",
      "Requirement already satisfied: cycler>=0.10 in \/opt\/python\/envs\/default\/lib\/python3.8\/site-packages (from matplotlib>=2.2->seaborn) (0.11.0)\r\n",
      "Requirement already satisfied: python-dateutil>=2.7 in \/opt\/python\/envs\/default\/lib\/python3.8\/site-packages (from matplotlib>=2.2->seaborn) (2.8.2)\r\n",
      "Requirement already satisfied: pyparsing>=2.2.1 in \/opt\/python\/envs\/default\/lib\/python3.8\/site-packages (from matplotlib>=2.2->seaborn) (3.0.7)\r\n",
      "Requirement already satisfied: pytz>=2017.3 in \/opt\/python\/envs\/default\/lib\/python3.8\/site-packages (from pandas>=0.23->seaborn) (2021.3)\r\n",
      "Requirement already satisfied: six>=1.5 in \/opt\/python\/envs\/default\/lib\/python3.8\/site-packages (from python-dateutil>=2.7->matplotlib>=2.2->seaborn) (1.16.0)\r\n",
      "\u001b[33mWARNING: You are using pip version 21.3.1; however, version 22.0.3 is available.\r\n",
      "You should consider upgrading via the '\/opt\/python\/envs\/default\/bin\/python -m pip install --upgrade pip' command.\u001b[0m\r\n"
     ],
     "output_type":"stream"
    }
   ],
   "metadata":{
    "datalore":{
     "type":"CODE",
     "hide_input_from_viewers":false,
     "hide_output_from_viewers":false
    }
   }
  },
  {
   "cell_type":"code",
   "source":[
    "import seaborn as sns"
   ],
   "execution_count":34,
   "outputs":[
    
   ],
   "metadata":{
    "datalore":{
     "type":"CODE",
     "hide_input_from_viewers":false,
     "hide_output_from_viewers":false
    }
   }
  },
  {
   "cell_type":"code",
   "source":[
    "import matplotlib.pyplot as plt"
   ],
   "execution_count":35,
   "outputs":[
    
   ],
   "metadata":{
    "datalore":{
     "type":"CODE",
     "hide_input_from_viewers":false,
     "hide_output_from_viewers":false
    }
   }
  },
  {
   "cell_type":"code",
   "source":[
    "cormat= x[['Quantity', 'Unit price' , 'Tax 5%', 'Rating' , 'cogs' , 'gross income']].corr(method='pearson')"
   ],
   "execution_count":36,
   "outputs":[
    
   ],
   "metadata":{
    "datalore":{
     "type":"CODE",
     "hide_input_from_viewers":false,
     "hide_output_from_viewers":false
    }
   }
  },
  {
   "cell_type":"code",
   "source":[
    "sns.heatmap(cormat, annot=True)"
   ],
   "execution_count":37,
   "outputs":[
    {
     "data":{
      "text\/plain":[
       "<AxesSubplot:>"
      ],
      "image\/png":"[encoded data removed]"
     },
     "metadata":{
      "image\/png":{
       
      }
     },
     "output_type":"display_data"
    }
   ],
   "metadata":{
    "datalore":{
     "type":"CODE",
     "hide_input_from_viewers":false,
     "hide_output_from_viewers":false
    }
   }
  },
  {
   "cell_type":"code",
   "source":[
    "l=x['Branch'].value_counts()\n",
    "l"
   ],
   "execution_count":38,
   "outputs":[
    {
     "data":{
      "text\/html":[
       
      ]
     },
     "metadata":{
      
     },
     "output_type":"display_data"
    }
   ],
   "metadata":{
    "datalore":{
     "type":"CODE",
     "hide_input_from_viewers":false,
     "hide_output_from_viewers":false
    }
   }
  },
  {
   "cell_type":"code",
   "source":[
    "import matplotlib.pyplot as plt\n",
    "from statsmodels.graphics.mosaicplot import mosaic"
   ],
   "execution_count":39,
   "outputs":[
    
   ],
   "metadata":{
    "datalore":{
     "type":"CODE",
     "hide_input_from_viewers":false,
     "hide_output_from_viewers":false
    }
   }
  },
  {
   "cell_type":"code",
   "source":[
    "mosaic(x, ['Branch', 'Gender'], title=' Gender x Branch ')\n",
    "plt.show()"
   ],
   "execution_count":40,
   "outputs":[
    {
     "data":{
      "image\/png":"[encoded data removed]"
     },
     "metadata":{
      "image\/png":{
       
      }
     },
     "output_type":"display_data"
    }
   ],
   "metadata":{
    "datalore":{
     "type":"CODE",
     "hide_input_from_viewers":false,
     "hide_output_from_viewers":false
    }
   }
  },
  {
   "cell_type":"code",
   "source":[
    "x.Total.plot.density()"
   ],
   "execution_count":41,
   "outputs":[
    {
     "data":{
      "text\/plain":[
       "<AxesSubplot:ylabel='Density'>"
      ],
      "image\/png":"[encoded data removed]"
     },
     "metadata":{
      "image\/png":{
       
      }
     },
     "output_type":"display_data"
    }
   ],
   "metadata":{
    "datalore":{
     "type":"CODE",
     "hide_input_from_viewers":false,
     "hide_output_from_viewers":false
    }
   }
  },
  {
   "cell_type":"code",
   "source":[
    "plt.bar(x['Branch'], x['Quantity'], color ='maroon',\n",
    "        width = 0.4)"
   ],
   "execution_count":42,
   "outputs":[
    {
     "data":{
      "text\/plain":[
       "<BarContainer object of 1000 artists>"
      ],
      "image\/png":"[encoded data removed]"
     },
     "metadata":{
      "image\/png":{
       
      }
     },
     "output_type":"display_data"
    }
   ],
   "metadata":{
    "datalore":{
     "type":"CODE",
     "hide_input_from_viewers":false,
     "hide_output_from_viewers":false
    }
   }
  },
  {
   "cell_type":"code",
   "source":[
    "plt.bar(x['Gender'], x['Quantity'], color ='maroon',\n",
    "        width = 0.4)"
   ],
   "execution_count":43,
   "outputs":[
    {
     "data":{
      "text\/plain":[
       "<BarContainer object of 1000 artists>"
      ],
      "image\/png":"[encoded data removed]"
     },
     "metadata":{
      "image\/png":{
       
      }
     },
     "output_type":"display_data"
    }
   ],
   "metadata":{
    "datalore":{
     "type":"CODE",
     "hide_input_from_viewers":false,
     "hide_output_from_viewers":false
    }
   }
  },
  {
   "cell_type":"code",
   "source":[
    "v=np.arange(8)\n",
    "v"
   ],
   "execution_count":44,
   "outputs":[
    {
     "data":{
      "text\/html":[
       
      ]
     },
     "metadata":{
      
     },
     "output_type":"display_data"
    }
   ],
   "metadata":{
    "datalore":{
     "type":"CODE",
     "hide_input_from_viewers":false,
     "hide_output_from_viewers":false
    }
   }
  }
 ],
 "metadata":{
  "datalore":{
   "version":1,
   "computation_mode":"JUPYTER",
   "package_manager":"pip",
   "base_environment":"default",
   "packages":[
    
   ]
  }
 },
 "nbformat":4,
 "nbformat_minor":4
}